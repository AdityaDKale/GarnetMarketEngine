{
 "cells": [
  {
   "cell_type": "code",
   "execution_count": 1,
   "metadata": {},
   "outputs": [],
   "source": [
    "import json\n",
    "import os\n",
    "import sys\n",
    "current_dir = os.path.dirname(os.path.realpath(__name__))\n",
    "src_dir = os.path.join(current_dir, '..', 'src')\n",
    "sys.path.append(src_dir)\n",
    "from min_max import min_max_scaling_inverse,min_max_scaling_with_bias\n",
    "from tensorflow.keras.models import load_model\n",
    "import pandas as pd\n",
    "from datetime import datetime,timedelta\n",
    "import numpy as np"
   ]
  },
  {
   "cell_type": "code",
   "execution_count": 2,
   "metadata": {},
   "outputs": [],
   "source": [
    "src_directory = \"../src\" \n",
    "models_directory = os.path.join(src_directory)"
   ]
  },
  {
   "cell_type": "code",
   "execution_count": 3,
   "metadata": {},
   "outputs": [
    {
     "name": "stdout",
     "output_type": "stream",
     "text": [
      "\n",
      "\u001b[1;36mLoading Saved Values\u001b[0m\n",
      "\n"
     ]
    }
   ],
   "source": [
    "print(f'\\n\\x1b[1;36mLoading Saved Values\\x1b[0m\\n')\n",
    "input_file_path = 'min_max_values.json'\n",
    "input_file_path = os.path.join(models_directory,input_file_path)\n",
    "with open(input_file_path, 'r') as json_file:\n",
    "    min_max_values = json.load(json_file)"
   ]
  },
  {
   "cell_type": "code",
   "execution_count": 4,
   "metadata": {},
   "outputs": [
    {
     "name": "stdout",
     "output_type": "stream",
     "text": [
      "\n",
      "\u001b[1;36mFetching Saved Values\u001b[0m\n",
      "\n"
     ]
    }
   ],
   "source": [
    "print(f'\\n\\x1b[1;36mFetching Saved Values\\x1b[0m\\n')\n",
    "min_nifty50_val = min_max_values['nifty50']['min']\n",
    "max_nifty50_val = min_max_values['nifty50']['max']\n",
    "min_niftybank_val = min_max_values['niftybank']['min']\n",
    "max_niftybank_val = min_max_values['niftybank']['max']\n",
    "min_niftyfin_val = min_max_values['niftyfin']['min']\n",
    "max_niftyfin_val = min_max_values['niftyfin']['max']\n",
    "min_reliance_val = min_max_values['reliance']['min']\n",
    "max_reliance_val = min_max_values['reliance']['max']"
   ]
  },
  {
   "cell_type": "code",
   "execution_count": 5,
   "metadata": {},
   "outputs": [
    {
     "name": "stdout",
     "output_type": "stream",
     "text": [
      "\u001b[1;36mGetting Dates\u001b[0m\n",
      "\n",
      "\u001b[1;36mStart Date        \u001b[1;32m2023-Aug-25\u001b[0m\n",
      "\u001b[1;36mEnd Date          \u001b[1;32m2023-Oct-24\u001b[0m\n",
      "\n"
     ]
    }
   ],
   "source": [
    "print(f'\\x1b[1;36mGetting Dates\\x1b[0m\\n')\n",
    "end_date = datetime.now()\n",
    "start_date = end_date - timedelta(60)\n",
    "start_timestamp = int(round(datetime.timestamp(start_date),0))\n",
    "end_timestamp = int(round(datetime.timestamp(end_date),0))\n",
    "print(f'\\x1b[1;36mStart Date        \\x1b[1;32m{start_date.strftime(\"%Y-%b-%d\")}\\x1b[0m')\n",
    "print(f'\\x1b[1;36mEnd Date          \\x1b[1;32m{end_date.strftime(\"%Y-%b-%d\")}\\x1b[0m\\n')"
   ]
  },
  {
   "cell_type": "code",
   "execution_count": 6,
   "metadata": {},
   "outputs": [
    {
     "name": "stdout",
     "output_type": "stream",
     "text": [
      "\u001b[1;36mStarting Yahoo Instance\u001b[0m\n",
      "\n"
     ]
    }
   ],
   "source": [
    "print(f'\\x1b[1;36mStarting Yahoo Instance\\x1b[0m\\n')\n",
    "nifty_url = f'https://query1.finance.yahoo.com/v7/finance/download/%5ENSEI?period1={start_timestamp}&period2={end_timestamp}&interval=1d&events=history&includeAdjustedClose=true'\n",
    "nifty_bank_url = f'https://query1.finance.yahoo.com/v7/finance/download/%5ENSEBANK?period1={start_timestamp}&period2={end_timestamp}&interval=1d&events=history&includeAdjustedClose=true'\n",
    "nifty_fin_services_url = f'https://query1.finance.yahoo.com/v7/finance/download/NIFTY_FIN_SERVICE.NS?period1={start_timestamp}&period2={end_timestamp}&interval=1d&events=history&includeAdjustedClose=true'\n",
    "reliance_url = f'https://query1.finance.yahoo.com/v7/finance/download/RELIANCE.NS?period1={start_timestamp}&period2={end_timestamp}&interval=1d&events=history&includeAdjustedClose=true'"
   ]
  },
  {
   "cell_type": "code",
   "execution_count": 7,
   "metadata": {},
   "outputs": [
    {
     "name": "stdout",
     "output_type": "stream",
     "text": [
      "\u001b[1;32mNifty 50\u001b[0m\n",
      "\u001b[1;32mNifty Bank\u001b[0m\n",
      "\u001b[1;32mNifty Financial Services\u001b[0m\n",
      "\u001b[1;32mReliance\u001b[0m\n",
      "\n"
     ]
    }
   ],
   "source": [
    "df_nifty50 = pd.read_csv(nifty_url)\n",
    "print(f'\\x1b[1;32mNifty 50\\x1b[0m')\n",
    "df_niftybank = pd.read_csv(nifty_bank_url)\n",
    "print(f'\\x1b[1;32mNifty Bank\\x1b[0m')\n",
    "df_niftyfin = pd.read_csv(nifty_fin_services_url)\n",
    "print(f'\\x1b[1;32mNifty Financial Services\\x1b[0m')\n",
    "df_reliance = pd.read_csv(reliance_url)\n",
    "print(f'\\x1b[1;32mReliance\\x1b[0m\\n')"
   ]
  },
  {
   "cell_type": "code",
   "execution_count": 8,
   "metadata": {},
   "outputs": [
    {
     "name": "stdout",
     "output_type": "stream",
     "text": [
      "\n",
      "\u001b[1;36mCleaning the Data\u001b[0m\n",
      "\n",
      "\u001b[1;32mRemoved missing values\u001b[0m\n",
      "\u001b[1;32mRounded the data to 2 decimal place\u001b[0m\n",
      "\u001b[1;32mRemoved Extra Rows\u001b[0m\n",
      "\n"
     ]
    }
   ],
   "source": [
    "print(f'\\n\\x1b[1;36mCleaning the Data\\x1b[0m\\n')\n",
    "\n",
    "# Remove Missing Values\n",
    "\n",
    "df_nifty50.dropna(inplace=True)\n",
    "df_niftybank.dropna(inplace=True)\n",
    "df_niftyfin.dropna(inplace=True)\n",
    "df_reliance.dropna(inplace=True)\n",
    "\n",
    "print(f'\\x1b[1;32mRemoved missing values\\x1b[0m')\n",
    "\n",
    "# Round data to 2 decimal places\n",
    "\n",
    "df_nifty50 = df_nifty50.round(2)\n",
    "df_niftybank = df_niftybank.round(2)\n",
    "df_niftyfin = df_niftyfin.round(2)\n",
    "df_reliance = df_reliance.round(2)\n",
    "\n",
    "print(f'\\x1b[1;32mRounded the data to 2 decimal place\\x1b[0m')\n",
    "\n",
    "# Removing Extra Rows\n",
    "\n",
    "df_nifty50.drop(['Volume','Adj Close'],axis=1,inplace=True)\n",
    "df_niftybank.drop(['Volume','Adj Close'],axis=1,inplace=True)\n",
    "df_niftyfin.drop(['Volume','Adj Close'],axis=1,inplace=True)\n",
    "df_reliance.drop(['Volume','Adj Close'],axis=1,inplace=True)\n",
    "\n",
    "print(f'\\x1b[1;32mRemoved Extra Rows\\x1b[0m\\n')"
   ]
  },
  {
   "cell_type": "code",
   "execution_count": 9,
   "metadata": {},
   "outputs": [],
   "source": [
    "df_nifty50 = df_nifty50.tail(30).reset_index(drop=True)\n",
    "df_niftybank = df_niftybank.tail(30).reset_index(drop=True)\n",
    "df_niftyfin = df_niftyfin.tail(30).reset_index(drop=True)\n",
    "df_reliance = df_reliance.tail(30).reset_index(drop=True)"
   ]
  },
  {
   "cell_type": "code",
   "execution_count": 10,
   "metadata": {},
   "outputs": [
    {
     "name": "stdout",
     "output_type": "stream",
     "text": [
      "\n",
      "\u001b[1;36mLoading the Models\u001b[0m\n",
      "\n"
     ]
    }
   ],
   "source": [
    "print(f'\\n\\x1b[1;36mLoading the Models\\x1b[0m\\n')\n",
    "model_nifty50 = load_model(\"../src/models/model_nifty50.h5\")\n",
    "model_niftybank = load_model(\"../src/models/model_niftybank.h5\")\n",
    "model_niftyfin = load_model(\"../src/models/model_niftyfin.h5\")\n",
    "model_reliance = load_model(\"../src/models/model_reliance.h5\")"
   ]
  },
  {
   "cell_type": "code",
   "execution_count": 11,
   "metadata": {},
   "outputs": [
    {
     "name": "stdout",
     "output_type": "stream",
     "text": [
      "\n",
      "\u001b[1;36mApproriately Scaling the Data\u001b[0m\n",
      "\n"
     ]
    }
   ],
   "source": [
    "print(f'\\n\\x1b[1;36mApproriately Scaling the Data\\x1b[0m\\n')\n",
    "scaled_nifty50,temp1,temp2 = min_max_scaling_with_bias(df_nifty50['Close'],min_nifty50_val,max_nifty50_val)\n",
    "scaled_niftybank,temp1,temp2 = min_max_scaling_with_bias(df_niftybank['Close'],min_niftybank_val,max_niftybank_val)\n",
    "scaled_niftyfin,temp1,temp2 = min_max_scaling_with_bias(df_niftyfin['Close'],min_niftyfin_val,max_niftyfin_val)\n",
    "scaled_reliance,temp1,temp2 = min_max_scaling_with_bias(df_reliance['Close'],min_reliance_val,max_reliance_val)"
   ]
  },
  {
   "cell_type": "code",
   "execution_count": 12,
   "metadata": {},
   "outputs": [
    {
     "name": "stdout",
     "output_type": "stream",
     "text": [
      "\n",
      "\u001b[1;36mPredicting\u001b[0m\n",
      "\n",
      "1/1 [==============================] - 1s 891ms/step\n",
      "1/1 [==============================] - 0s 46ms/step\n",
      "1/1 [==============================] - 0s 37ms/step\n",
      "1/1 [==============================] - 0s 37ms/step\n"
     ]
    }
   ],
   "source": [
    "print(f'\\n\\x1b[1;36mPredicting\\x1b[0m\\n')\n",
    "pred_nifty50 = model_nifty50.predict(np.array([scaled_nifty50]))\n",
    "pred_niftybank = model_nifty50.predict(np.array([scaled_niftybank]))\n",
    "pred_niftyfin = model_nifty50.predict(np.array([scaled_niftyfin]))\n",
    "pred_reliance = model_nifty50.predict(np.array([scaled_reliance]))"
   ]
  },
  {
   "cell_type": "code",
   "execution_count": 13,
   "metadata": {},
   "outputs": [],
   "source": [
    "unscaled_pred_nifty50 = round(min_max_scaling_inverse(pred_nifty50,min_nifty50_val-1000,max_nifty50_val+1000,bias_min=1000,bias_max=1000)[0][0],2).item()\n",
    "unscaled_pred_niftybank = round(min_max_scaling_inverse(pred_niftybank,min_niftybank_val-1000,max_niftybank_val+1000,bias_min=1000,bias_max=1000)[0][0],2).item()\n",
    "unscaled_pred_niftyfin = round(min_max_scaling_inverse(pred_niftyfin,min_niftyfin_val-1000,max_niftyfin_val+1000,bias_min=1000,bias_max=1000)[0][0],2).item()\n",
    "unscaled_pred_reliance = round(min_max_scaling_inverse(pred_reliance,min_reliance_val-1000,max_reliance_val+1000,bias_min=1000,bias_max=1000)[0][0],2).item()"
   ]
  },
  {
   "cell_type": "code",
   "execution_count": 14,
   "metadata": {},
   "outputs": [
    {
     "name": "stdout",
     "output_type": "stream",
     "text": [
      "\n",
      "\u001b[1;32mSaving the Predictions\u001b[0m\n",
      "\n"
     ]
    }
   ],
   "source": [
    "print(f'\\n\\x1b[1;32mSaving the Predictions\\x1b[0m\\n')\n",
    "# Create a dictionary to store the values\n",
    "data = {\n",
    "    \"pred_nifty50\": unscaled_pred_nifty50,\n",
    "    \"pred_niftybank\": unscaled_pred_niftybank,\n",
    "    \"pred_niftyfin\": unscaled_pred_niftyfin,\n",
    "    \"pred_reliance\": unscaled_pred_reliance\n",
    "}\n",
    "\n",
    "# Specify the name of the JSON file\n",
    "json_file = \"prediction.json\"\n",
    "\n",
    "# Write the data to the JSON file\n",
    "with open(json_file, 'w') as f:\n",
    "    json.dump(data, f)"
   ]
  },
  {
   "cell_type": "code",
   "execution_count": null,
   "metadata": {},
   "outputs": [],
   "source": []
  }
 ],
 "metadata": {
  "kernelspec": {
   "display_name": "venv",
   "language": "python",
   "name": "python3"
  },
  "language_info": {
   "codemirror_mode": {
    "name": "ipython",
    "version": 3
   },
   "file_extension": ".py",
   "mimetype": "text/x-python",
   "name": "python",
   "nbconvert_exporter": "python",
   "pygments_lexer": "ipython3",
   "version": "3.8.10"
  }
 },
 "nbformat": 4,
 "nbformat_minor": 2
}
