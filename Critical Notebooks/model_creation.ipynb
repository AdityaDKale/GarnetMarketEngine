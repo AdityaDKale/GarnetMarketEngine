{
 "cells": [
  {
   "cell_type": "code",
   "execution_count": 45,
   "metadata": {},
   "outputs": [],
   "source": [
    "import numpy as np\n",
    "import pandas as pd\n",
    "import tensorflow as tf\n",
    "from tensorflow.keras.callbacks import ModelCheckpoint\n",
    "import matplotlib.pyplot as plt\n",
    "from keras.models import load_model\n",
    "from datetime import datetime,date\n",
    "from pytz import timezone"
   ]
  },
  {
   "cell_type": "code",
   "execution_count": 47,
   "metadata": {},
   "outputs": [
    {
     "name": "stdout",
     "output_type": "stream",
     "text": [
      "\u001b[1;36mGetting Timezone ... Asia/Kolkata\u001b[0m\n"
     ]
    }
   ],
   "source": [
    "tizone = r'Asia/Kolkata'\n",
    "print(f'\\x1b[1;36mGetting Timezone ... {tizone}\\x1b[0m')\n",
    "ist = timezone(tizone)"
   ]
  },
  {
   "cell_type": "code",
   "execution_count": 57,
   "metadata": {},
   "outputs": [
    {
     "name": "stdout",
     "output_type": "stream",
     "text": [
      "\u001b[1;36mGetting Dates\u001b[0m\n",
      "\n",
      "\u001b[1;36mStart Date        \u001b[1;32m2018-Jan-01\u001b[0m\n",
      "\u001b[1;36mEnd Date          \u001b[1;32m2023-Oct-24\u001b[0m\n",
      "\n"
     ]
    }
   ],
   "source": [
    "print(f'\\x1b[1;36mGetting Dates\\x1b[0m\\n')\n",
    "start_date = datetime(2018,1,1)\n",
    "end_date = datetime.now()\n",
    "start_timestamp = int(round(datetime.timestamp(start_date),0))\n",
    "end_timestamp = int(round(datetime.timestamp(end_date),0))\n",
    "print(f'\\x1b[1;36mStart Date        \\x1b[1;32m{start_date.strftime(\"%Y-%b-%d\")}\\x1b[0m')\n",
    "print(f'\\x1b[1;36mEnd Date          \\x1b[1;32m{end_date.strftime(\"%Y-%b-%d\")}\\x1b[0m\\n')"
   ]
  },
  {
   "cell_type": "code",
   "execution_count": 60,
   "metadata": {},
   "outputs": [
    {
     "name": "stdout",
     "output_type": "stream",
     "text": [
      "\u001b[1;36mStarting Yahoo Instance\u001b[0m\n",
      "\n",
      "\u001b[1;32mNifty 50\u001b[0m\n"
     ]
    }
   ],
   "source": [
    "print(f'\\x1b[1;36mStarting Yahoo Instance\\x1b[0m\\n')\n",
    "print(f'\\x1b[1;32mNifty 50\\x1b[0m')\n",
    "nifty_url = f'https://query1.finance.yahoo.com/v7/finance/download/%5ENSEI?period1={start_timestamp}&period2={end_timestamp}&interval=1d&events=history&includeAdjustedClose=true'"
   ]
  },
  {
   "cell_type": "code",
   "execution_count": 59,
   "metadata": {},
   "outputs": [],
   "source": [
    "df_nifty50 = pd.read_csv(nifty_url)"
   ]
  },
  {
   "cell_type": "code",
   "execution_count": null,
   "metadata": {},
   "outputs": [],
   "source": []
  }
 ],
 "metadata": {
  "kernelspec": {
   "display_name": "venv",
   "language": "python",
   "name": "python3"
  },
  "language_info": {
   "codemirror_mode": {
    "name": "ipython",
    "version": 3
   },
   "file_extension": ".py",
   "mimetype": "text/x-python",
   "name": "python",
   "nbconvert_exporter": "python",
   "pygments_lexer": "ipython3",
   "version": "3.8.10"
  }
 },
 "nbformat": 4,
 "nbformat_minor": 2
}
